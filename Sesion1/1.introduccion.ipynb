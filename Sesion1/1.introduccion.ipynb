{
 "cells": [
  {
   "cell_type": "code",
   "execution_count": 1,
   "metadata": {},
   "outputs": [
    {
     "name": "stdout",
     "output_type": "stream",
     "text": [
      "5\n"
     ]
    }
   ],
   "source": [
    "# variables \n",
    "\n",
    "var1 = ''\n",
    "var2 = 5\n",
    "var3 = 'Datapath'\n",
    "\n",
    "print (var2)"
   ]
  },
  {
   "cell_type": "code",
   "execution_count": 2,
   "metadata": {},
   "outputs": [
    {
     "name": "stdout",
     "output_type": "stream",
     "text": [
      "<class 'str'>\n",
      "<class 'int'>\n",
      "<class 'str'>\n"
     ]
    }
   ],
   "source": [
    "print (type(var1))\n",
    "print (type(var2))\n",
    "print (type(var3))"
   ]
  },
  {
   "cell_type": "code",
   "execution_count": 3,
   "metadata": {},
   "outputs": [
    {
     "name": "stdout",
     "output_type": "stream",
     "text": [
      "Datapath\n",
      "Python\n",
      "Git\n"
     ]
    }
   ],
   "source": [
    "a, b, c = 'Datapath', 'Python', 'Git'\n",
    "\n",
    "print(a)\n",
    "print(b)\n",
    "print(c)"
   ]
  },
  {
   "cell_type": "code",
   "execution_count": 5,
   "metadata": {},
   "outputs": [
    {
     "name": "stdout",
     "output_type": "stream",
     "text": [
      "qwerty\n",
      "we\n"
     ]
    }
   ],
   "source": [
    "# Tipos de datos\n",
    "\n",
    "#String\n",
    "var_string = 'qwerty'\n",
    "\n",
    "print(var_string)\n",
    "print(var_string[1:3])"
   ]
  },
  {
   "cell_type": "code",
   "execution_count": 6,
   "metadata": {},
   "outputs": [
    {
     "name": "stdout",
     "output_type": "stream",
     "text": [
      "<class 'complex'>\n"
     ]
    }
   ],
   "source": [
    "# numericas\n",
    "\n",
    "var_int = 10\n",
    "var_float = 4.5\n",
    "var_complex = 3.14j\n",
    "\n",
    "print(type(var_complex))"
   ]
  },
  {
   "cell_type": "code",
   "execution_count": 7,
   "metadata": {},
   "outputs": [],
   "source": [
    "# Listas\n",
    "# list = [a, b, c, d]\n",
    "\n",
    "list_1 = []\n",
    "\n",
    "list_2 = [2, 3, 4, 5]\n",
    "\n",
    "list_3 = [3, \"qwert\", 44.4]\n",
    "\n",
    "list_4 = [\"Datapath\", 4, [3, 5, 7], ['a', 4.5, 4.5j]]"
   ]
  },
  {
   "cell_type": "code",
   "execution_count": 9,
   "metadata": {},
   "outputs": [
    {
     "name": "stdout",
     "output_type": "stream",
     "text": [
      "4\n",
      "5\n"
     ]
    }
   ],
   "source": [
    "print(list_4[1])\n",
    "print(list_4[2][1])"
   ]
  },
  {
   "cell_type": "code",
   "execution_count": 10,
   "metadata": {},
   "outputs": [
    {
     "name": "stdout",
     "output_type": "stream",
     "text": [
      "[3, 4]\n"
     ]
    }
   ],
   "source": [
    "lista = [1, 2, 3, 4, 5]\n",
    "print (lista[2:4])"
   ]
  },
  {
   "cell_type": "code",
   "execution_count": 11,
   "metadata": {},
   "outputs": [
    {
     "name": "stdout",
     "output_type": "stream",
     "text": [
      "[1, 2, 3, 4, 7]\n"
     ]
    }
   ],
   "source": [
    "lista[4] = 7\n",
    "print(lista)"
   ]
  },
  {
   "cell_type": "code",
   "execution_count": 12,
   "metadata": {},
   "outputs": [
    {
     "name": "stdout",
     "output_type": "stream",
     "text": [
      "[6, 7, 8, 3, 5]\n"
     ]
    }
   ],
   "source": [
    "list_a = [6, 7, 8]\n",
    "\n",
    "list_a.append(3)\n",
    "list_a.append(5)\n",
    "\n",
    "print(list_a)"
   ]
  },
  {
   "cell_type": "code",
   "execution_count": 13,
   "metadata": {},
   "outputs": [
    {
     "name": "stdout",
     "output_type": "stream",
     "text": [
      "[6, 7, 8, 3, 5, 1, 2, 4]\n"
     ]
    }
   ],
   "source": [
    "list_a.extend([1, 2, 4])\n",
    "print(list_a)"
   ]
  },
  {
   "cell_type": "code",
   "execution_count": 23,
   "metadata": {},
   "outputs": [
    {
     "name": "stdout",
     "output_type": "stream",
     "text": [
      "[1, 2, 3, 9, 8, 7]\n"
     ]
    }
   ],
   "source": [
    "list_a = [1, 2, 3]\n",
    "list_b = [9, 8, 7]\n",
    "\n",
    "list_final = list_a + list_b\n",
    "\n",
    "print(list_final)"
   ]
  },
  {
   "cell_type": "code",
   "execution_count": 33,
   "metadata": {},
   "outputs": [
    {
     "name": "stdout",
     "output_type": "stream",
     "text": [
      "10\n",
      "10\n",
      "10\n",
      "[10, 10, 10]\n"
     ]
    }
   ],
   "source": [
    "result = []\n",
    "\n",
    "for i in range(len(list_a)):\n",
    "    print(list_a[i] + list_b[i])\n",
    "    result.append(list_a[i]+list_b[i])\n",
    "\n",
    "print(result)"
   ]
  },
  {
   "cell_type": "code",
   "execution_count": 20,
   "metadata": {},
   "outputs": [
    {
     "name": "stdout",
     "output_type": "stream",
     "text": [
      "(1, 4.5, (1, 2, 3))\n"
     ]
    }
   ],
   "source": [
    "#Tuplas\n",
    "tupla = ()\n",
    "\n",
    "tupla_int = (1, 3, 4)\n",
    "\n",
    "tupla_mixta = (1, 4.j, \"Datapath\")\n",
    "\n",
    "tupla_anidada = (1, 4.5, (1, 2, 3))\n",
    "\n",
    "print(tupla_anidada)"
   ]
  },
  {
   "cell_type": "code",
   "execution_count": 25,
   "metadata": {},
   "outputs": [
    {
     "name": "stdout",
     "output_type": "stream",
     "text": [
      "<class 'tuple'>\n",
      "<class 'tuple'>\n"
     ]
    }
   ],
   "source": [
    "tupla_1 = ('Datapath',)\n",
    "print(type(tupla_1))\n",
    "\n",
    "tupla_2 = \"Datapath\",\n",
    "print(type(tupla_2))"
   ]
  },
  {
   "cell_type": "code",
   "execution_count": 26,
   "metadata": {},
   "outputs": [
    {
     "name": "stdout",
     "output_type": "stream",
     "text": [
      "{'nombre': 'Juan', 'apellido': 'Perez'}\n"
     ]
    }
   ],
   "source": [
    "# Diccionarios \n",
    "\n",
    "# diccionario_1 = {}\n",
    "\n",
    "dic_1 = {}\n",
    "dic_2 = {\n",
    "    1: 'Datapath',\n",
    "    2: 'Python'\n",
    "}\n",
    "\n",
    "dic_3 = {\n",
    "    'nombre' : 'Juan',\n",
    "    'apellido' : 'Perez'\n",
    "}\n",
    "\n",
    "print(dic_3)"
   ]
  },
  {
   "cell_type": "code",
   "execution_count": 28,
   "metadata": {},
   "outputs": [
    {
     "name": "stdout",
     "output_type": "stream",
     "text": [
      "Juan\n",
      "Perez\n"
     ]
    }
   ],
   "source": [
    "print(dic_3[\"nombre\"])\n",
    "print(dic_3[\"apellido\"])"
   ]
  },
  {
   "cell_type": "code",
   "execution_count": 29,
   "metadata": {},
   "outputs": [
    {
     "name": "stdout",
     "output_type": "stream",
     "text": [
      "Juan\n"
     ]
    }
   ],
   "source": [
    "print(dic_3.get('nombre'))"
   ]
  },
  {
   "cell_type": "code",
   "execution_count": 30,
   "metadata": {},
   "outputs": [
    {
     "name": "stdout",
     "output_type": "stream",
     "text": [
      "{'nombre': 'Juan', 'apellido': 'Perez', 'edad': 25}\n"
     ]
    }
   ],
   "source": [
    "dic_3['edad'] = 25\n",
    "print(dic_3)"
   ]
  },
  {
   "cell_type": "code",
   "execution_count": 31,
   "metadata": {},
   "outputs": [
    {
     "name": "stdout",
     "output_type": "stream",
     "text": [
      "nombre -> Juan\n",
      "apellido -> Perez\n",
      "edad -> 25\n"
     ]
    }
   ],
   "source": [
    "for key in dic_3:\n",
    "    print(key, '->', dic_3[key])"
   ]
  },
  {
   "cell_type": "code",
   "execution_count": 39,
   "metadata": {},
   "outputs": [
    {
     "name": "stdout",
     "output_type": "stream",
     "text": [
      "x es cero\n"
     ]
    }
   ],
   "source": [
    "#control de flujo \n",
    "# condicionales if - elif - else\n",
    "\n",
    "x = 0\n",
    "\n",
    "if x > 0 : \n",
    "    print(\"x es positiva\")\n",
    "elif x == 0:\n",
    "    print(\"x es cero\")\n",
    "else:\n",
    "    print(\"x es negativo\")"
   ]
  },
  {
   "cell_type": "code",
   "execution_count": 40,
   "metadata": {},
   "outputs": [
    {
     "name": "stdout",
     "output_type": "stream",
     "text": [
      "x es cero\n"
     ]
    }
   ],
   "source": [
    "if x >= 0 : \n",
    "    if x == 0:\n",
    "        print(\"x es cero\")\n",
    "    else:\n",
    "        print(\"x es positiva\")\n",
    "else:\n",
    "    print(\"x es negativo\")"
   ]
  },
  {
   "cell_type": "code",
   "execution_count": 43,
   "metadata": {},
   "outputs": [
    {
     "name": "stdout",
     "output_type": "stream",
     "text": [
      "0\n",
      "1\n",
      "2\n",
      "3\n",
      "4\n"
     ]
    }
   ],
   "source": [
    "# for \n",
    "\n",
    "for item in range(5):\n",
    "    print(item)"
   ]
  },
  {
   "cell_type": "code",
   "execution_count": 44,
   "metadata": {},
   "outputs": [
    {
     "name": "stdout",
     "output_type": "stream",
     "text": [
      "Contador 0\n",
      "Contador 1\n",
      "Contador 2\n",
      "Contador 3\n",
      "Contador 4\n"
     ]
    }
   ],
   "source": [
    "c = 0\n",
    "\n",
    "while c < 5:\n",
    "    print('Contador', c)\n",
    "    c = c + 1"
   ]
  },
  {
   "cell_type": "code",
   "execution_count": 45,
   "metadata": {},
   "outputs": [
    {
     "name": "stdout",
     "output_type": "stream",
     "text": [
      "0\n",
      "1\n",
      "2\n",
      "3\n",
      "4\n"
     ]
    }
   ],
   "source": [
    "# break \n",
    "\n",
    "for i in range(10):\n",
    "    if i == 5:\n",
    "        break\n",
    "    print(i)"
   ]
  },
  {
   "cell_type": "code",
   "execution_count": 46,
   "metadata": {},
   "outputs": [
    {
     "name": "stdout",
     "output_type": "stream",
     "text": [
      "0\n",
      "1\n",
      "2\n",
      "3\n",
      "4\n",
      "6\n",
      "7\n",
      "8\n",
      "9\n"
     ]
    }
   ],
   "source": [
    "for i in range(10):\n",
    "    if i == 5:\n",
    "        continue\n",
    "    print(i)"
   ]
  },
  {
   "cell_type": "code",
   "execution_count": 47,
   "metadata": {},
   "outputs": [],
   "source": [
    "def clean_data():\n",
    "    pass\n",
    "if True:\n",
    "    pass"
   ]
  },
  {
   "cell_type": "code",
   "execution_count": 48,
   "metadata": {},
   "outputs": [
    {
     "name": "stdout",
     "output_type": "stream",
     "text": [
      "Hola\n"
     ]
    }
   ],
   "source": [
    "def function():\n",
    "    return \"Hola\"\n",
    "\n",
    "var_1 = function()\n",
    "print(var_1)"
   ]
  },
  {
   "cell_type": "code",
   "execution_count": 49,
   "metadata": {},
   "outputs": [
    {
     "name": "stdout",
     "output_type": "stream",
     "text": [
      "8\n"
     ]
    }
   ],
   "source": [
    "def function(x):\n",
    "    return 2*x\n",
    "\n",
    "print(function(4))"
   ]
  },
  {
   "cell_type": "code",
   "execution_count": 50,
   "metadata": {},
   "outputs": [],
   "source": [
    "def read_table(table_name):\n",
    "    query = f\"SELECT * FROM {tabla_name}\"\n",
    "    return execute_query(query)"
   ]
  },
  {
   "cell_type": "code",
   "execution_count": 51,
   "metadata": {},
   "outputs": [
    {
     "name": "stdout",
     "output_type": "stream",
     "text": [
      "7\n"
     ]
    }
   ],
   "source": [
    "suma = lambda a,b: a+b\n",
    "print(suma(2,5))"
   ]
  },
  {
   "cell_type": "code",
   "execution_count": null,
   "metadata": {},
   "outputs": [],
   "source": [
    "#Eliminar duplicados en una lista\n",
    "# Buscar un elemento en  una lista\n",
    "# Crear una funcion que calcule el factorial de un número\n",
    "# Sumar número pars desde el 1 hasta el 100"
   ]
  },
  {
   "cell_type": "code",
   "execution_count": 56,
   "metadata": {},
   "outputs": [],
   "source": [
    "lista_ejercicios = [1, 3, 5, 7, 8, 9, 3, 5, 4, 2, 6, 3]\n"
   ]
  },
  {
   "cell_type": "code",
   "execution_count": 59,
   "metadata": {},
   "outputs": [
    {
     "name": "stdout",
     "output_type": "stream",
     "text": [
      "[1, 2, 3, 4, 5, 6, 7, 8, 9]\n"
     ]
    }
   ],
   "source": [
    "lista_sin_duplicados = list(set(lista_ejercicios))\n",
    "print(lista_sin_duplicados)"
   ]
  },
  {
   "cell_type": "code",
   "execution_count": 61,
   "metadata": {},
   "outputs": [
    {
     "name": "stdout",
     "output_type": "stream",
     "text": [
      "[1, 3, 5, 7, 8, 9, 4, 2, 6]\n"
     ]
    }
   ],
   "source": [
    "lista_sin_duplicado = []\n",
    "for i in lista_ejercicios:\n",
    "    if i not in lista_sin_duplicado:\n",
    "        lista_sin_duplicado.append(i)\n",
    "\n",
    "print (lista_sin_duplicado)"
   ]
  },
  {
   "cell_type": "code",
   "execution_count": 62,
   "metadata": {},
   "outputs": [
    {
     "data": {
      "text/plain": [
       "[1, 2, 3, 4, 5, 6, 7, 8, 9]"
      ]
     },
     "execution_count": 62,
     "metadata": {},
     "output_type": "execute_result"
    }
   ],
   "source": [
    "def eliminar_duplicados(lista):\n",
    "    return list(set(lista))\n",
    "\n",
    "\n",
    "eliminar_duplicados (lista_ejercicios)\n"
   ]
  },
  {
   "cell_type": "code",
   "execution_count": 71,
   "metadata": {},
   "outputs": [
    {
     "data": {
      "text/plain": [
       "9"
      ]
     },
     "execution_count": 71,
     "metadata": {},
     "output_type": "execute_result"
    }
   ],
   "source": [
    "def bucar_elementos(lista, i):\n",
    "    return lista[i]\n",
    "\n",
    "buscar_elementos(lista_ejercicios, 2)"
   ]
  },
  {
   "cell_type": "code",
   "execution_count": 73,
   "metadata": {},
   "outputs": [
    {
     "data": {
      "text/plain": [
       "120"
      ]
     },
     "execution_count": 73,
     "metadata": {},
     "output_type": "execute_result"
    }
   ],
   "source": [
    "def factorial(num):\n",
    "    if num == 0:\n",
    "        return 1\n",
    "    else:\n",
    "        return num * factorial(num-1)\n",
    "\n",
    "factorial(5)"
   ]
  },
  {
   "cell_type": "code",
   "execution_count": 74,
   "metadata": {},
   "outputs": [
    {
     "name": "stdout",
     "output_type": "stream",
     "text": [
      "2550\n"
     ]
    }
   ],
   "source": [
    "def suma_pares():\n",
    "    pares = [num for num in range(1, 101) if num % 2 == 0]\n",
    "    return sum(pares)\n",
    "\n",
    "print(suma_pares())\n",
    "    \n",
    "    "
   ]
  },
  {
   "cell_type": "code",
   "execution_count": 77,
   "metadata": {},
   "outputs": [
    {
     "name": "stdout",
     "output_type": "stream",
     "text": [
      "2550\n"
     ]
    }
   ],
   "source": [
    "def suma_pares():\n",
    "    suma = 0\n",
    "\n",
    "    for num in range(1, 101):\n",
    "        if num % 2 == 0:\n",
    "            suma = suma + num \n",
    "    return suma\n",
    "\n",
    "print(suma_pares())"
   ]
  },
  {
   "cell_type": "code",
   "execution_count": null,
   "metadata": {},
   "outputs": [],
   "source": []
  }
 ],
 "metadata": {
  "kernelspec": {
   "display_name": "Python 3",
   "language": "python",
   "name": "python3"
  },
  "language_info": {
   "codemirror_mode": {
    "name": "ipython",
    "version": 3
   },
   "file_extension": ".py",
   "mimetype": "text/x-python",
   "name": "python",
   "nbconvert_exporter": "python",
   "pygments_lexer": "ipython3",
   "version": "3.12.1"
  }
 },
 "nbformat": 4,
 "nbformat_minor": 2
}
